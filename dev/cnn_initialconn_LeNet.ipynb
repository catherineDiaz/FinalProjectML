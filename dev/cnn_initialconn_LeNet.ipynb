{
 "cells": [
  {
   "cell_type": "code",
   "execution_count": 0,
   "metadata": {
    "colab": {},
    "colab_type": "code",
    "id": "QerabKpYP9R8"
   },
   "outputs": [],
   "source": [
    "!mkdir data\n",
    "!wget https://storage.googleapis.com/quickdraw_dataset/full/numpy_bitmap/apple.npy\n",
    "!wget https://storage.googleapis.com/quickdraw_dataset/full/numpy_bitmap/banana.npy\n",
    "!wget https://storage.googleapis.com/quickdraw_dataset/full/numpy_bitmap/blackberry.npy\n",
    "!wget https://storage.googleapis.com/quickdraw_dataset/full/numpy_bitmap/blueberry.npy\n",
    "!wget https://storage.googleapis.com/quickdraw_dataset/full/numpy_bitmap/grapes.npy\n",
    "!wget https://storage.googleapis.com/quickdraw_dataset/full/numpy_bitmap/pear.npy\n",
    "!wget https://storage.googleapis.com/quickdraw_dataset/full/numpy_bitmap/pineapple.npy\n",
    "!wget https://storage.googleapis.com/quickdraw_dataset/full/numpy_bitmap/strawberry.npy\n",
    "!wget https://storage.googleapis.com/quickdraw_dataset/full/numpy_bitmap/watermelon.npy"
   ]
  },
  {
   "cell_type": "code",
   "execution_count": 0,
   "metadata": {
    "colab": {},
    "colab_type": "code",
    "id": "_d9oWbE_RYxB"
   },
   "outputs": [],
   "source": [
    "!mv *npy data/\n",
    "!ls data"
   ]
  },
  {
   "cell_type": "code",
   "execution_count": 0,
   "metadata": {
    "colab": {},
    "colab_type": "code",
    "id": "X51AfId2P7IX"
   },
   "outputs": [],
   "source": [
    "from sklearn.model_selection import train_test_split as tts\n",
    "from keras.models import Sequential\n",
    "from keras.layers import Dense, Dropout, Conv2D, MaxPooling2D, Flatten\n",
    "from keras.layers.core import Activation\n",
    "from keras.utils import np_utils\n",
    "from keras.optimizers import SGD\n",
    "from keras.applications import mobilenet\n",
    "from random import randint\n",
    "import numpy as np\n",
    "import os\n",
    "from PIL import Image\n",
    "from matplotlib.pyplot import imshow\n",
    "import matplotlib.pyplot as plt\n",
    "import random"
   ]
  },
  {
   "cell_type": "code",
   "execution_count": 0,
   "metadata": {
    "colab": {},
    "colab_type": "code",
    "id": "-LZTd_MBP7Ib"
   },
   "outputs": [],
   "source": [
    "class DoodleCNN():\n",
    "    def __init__(self, data_dir, limit=None, split=0.05):\n",
    "        self.classes = {}\n",
    "        self.load(data_dir, split, limit)\n",
    "        self.buildModel()\n",
    "        \n",
    "    def load(self, data_dir, split=0.05, limit=None):\n",
    "        X = []\n",
    "        Y = []\n",
    "        label = -1\n",
    "        for file in os.listdir(data_dir):\n",
    "            if file.endswith(\".npy\"):\n",
    "                label += 1\n",
    "                contents = self.reshape(np.load(data_dir + file)[0:limit])\n",
    "                self.classes[label] = file[:-4]\n",
    "                X = X + contents\n",
    "                Y = Y + [label for _ in range(0, len(contents))]\n",
    "        X = self.normalize(X)\n",
    "        self.X_train, self.X_test, self.Y_train, self.Y_test = self.split(X, Y, split)\n",
    "        \n",
    "    def reshape(self, contents):\n",
    "        reshaped = []\n",
    "        for i in range(len(contents)):\n",
    "            image = np.reshape(contents[i], (28, 28, 1))\n",
    "            reshaped.append(image)\n",
    "        return reshaped\n",
    "        \n",
    "    def normalize(self, data):\n",
    "        return np.interp(data, [0, 255], [-1, 1])\n",
    "      \n",
    "    def denormalize(self, data):\n",
    "        return np.interp(data, [-1, 1], [0, 255])\n",
    "            \n",
    "    def split(self, X, Y, split=0.05):\n",
    "        X_train, X_test, Y_train, Y_test = tts(X, Y, test_size=split)\n",
    "        Y_train = np_utils.to_categorical(Y_train, len(self.classes))\n",
    "        Y_test = np_utils.to_categorical(Y_test, len(self.classes))\n",
    "        return X_train, X_test, Y_train, Y_test\n",
    "    \n",
    "    def buildModel(self):\n",
    "        # should try batch normalization layer\n",
    "        self.model = Sequential()\n",
    "        self.model.add(Conv2D(8, (3, 3), activation='relu', padding='same', input_shape=(28,28,1)))\n",
    "        self.model.add(Conv2D(16, (3, 3), activation='relu', padding='same'))\n",
    "        self.model.add(Conv2D(32, (3, 3), activation='relu', padding='same'))\n",
    "        self.model.add(MaxPooling2D(pool_size=(2, 2)))\n",
    "        self.model.add(Dropout(0.25))\n",
    "        self.model.add(Conv2D(64, (3, 3), activation='relu', padding='same'))\n",
    "        self.model.add(MaxPooling2D(pool_size=(2, 2)))\n",
    "        self.model.add(Dropout(0.5))\n",
    "        self.model.add(Conv2D(128, (3, 3), activation='relu', padding='same'))\n",
    "        self.model.add(Flatten())\n",
    "        self.model.add(Dense(128, activation='relu'))\n",
    "        self.model.add(Dropout(0.25))\n",
    "        self.model.add(Dense(len(self.classes), activation='softmax'))\n",
    "        # LeNet\n",
    "        # self.model.add(Conv2D(20, (5,5), padding='same',input_shape = (28,28,1)))\n",
    "        # self.model.add(Activation(activation = 'relu'))\n",
    "        # self.model.add(MaxPooling2D(pool_size=(2,2), strides=(2,2)))\n",
    "        # self.model.add(Conv2D(50, (5,5), padding=\"same\"))\n",
    "        # self.model.add(Activation(activation = 'relu'))\n",
    "        # self.model.add(MaxPooling2D(pool_size = (2, 2),strides = (2, 2)))\n",
    "        # self.model.add(Flatten())\n",
    "        # self.model.add(Dense(500))\n",
    "        # self.model.add(Activation(activation = 'relu'))\n",
    "        # self.model.add(Dense(len(self.classes)))\n",
    "        # self.model.add(Activation(\"softmax\"))\n",
    "        \n",
    "    def train(self, epochs=10):\n",
    "        self.model.compile(loss='categorical_crossentropy', optimizer=SGD(lr = 0.01), metrics=['accuracy'])\n",
    "        self.model.fit(np.array(self.X_train), np.array(self.Y_train), batch_size=32, epochs=epochs, shuffle=True)\n",
    "        \n",
    "    def test(self):\n",
    "        loss, acc = self.model.evaluate(self.X_test, self.Y_test, verbose=0)\n",
    "        print('\\nTesting acc: {}, loss: {}\\n'.format(acc, loss))\n",
    "        \n",
    "    def predict(self, arr):\n",
    "        return self.model.predict(arr)\n",
    "        \n",
    "    def randomPrediction(self):\n",
    "        index = random.randint(0,len(self.X_test) - 1)\n",
    "        \n",
    "        y_hat = self.predict(self.X_test)[index]\n",
    "        pred_class = self.classes[max(range(len(y_hat)), key=y_hat.__getitem__)]\n",
    "        \n",
    "        y = self.Y_test[index]\n",
    "        actual_class = self.classes[max(range(len(y)), key=y.__getitem__)]\n",
    "        \n",
    "        print(\"Predicition Probabilities:\", y_hat)\n",
    "        print(\"\\nPredicted Class: {}\\nActual Class: {}\".format(pred_class, actual_class))\n",
    "        \n",
    "        img = self.denormalize(self.X_test[index])\n",
    "        plot = plt.figure(figsize=(4,4))\n",
    "        plt.imshow(img.reshape(28,28))\n",
    "        plt.grid(False)\n"
   ]
  },
  {
   "cell_type": "code",
   "execution_count": 0,
   "metadata": {
    "colab": {},
    "colab_type": "code",
    "id": "XFw4wk5wP7Id"
   },
   "outputs": [],
   "source": [
    "nn = DoodleCNN(\"data/\", 5000, 0.1)\n",
    "print(nn.classes)\n",
    "print(np.shape(nn.X_train), np.shape(nn.Y_train), np.shape(nn.X_test), np.shape(nn.Y_test))"
   ]
  },
  {
   "cell_type": "code",
   "execution_count": 0,
   "metadata": {
    "colab": {},
    "colab_type": "code",
    "id": "6gYld56HP7If"
   },
   "outputs": [],
   "source": [
    "nn.model.summary()"
   ]
  },
  {
   "cell_type": "code",
   "execution_count": 0,
   "metadata": {
    "colab": {},
    "colab_type": "code",
    "id": "EOkStSOzP7Ih"
   },
   "outputs": [],
   "source": [
    "nn.train(100)"
   ]
  },
  {
   "cell_type": "code",
   "execution_count": 0,
   "metadata": {
    "colab": {},
    "colab_type": "code",
    "id": "uIakfIhPrYgE"
   },
   "outputs": [],
   "source": [
    "nn.test()\n",
    "nn.randomPrediction()"
   ]
  }
 ],
 "metadata": {
  "accelerator": "GPU",
  "colab": {
   "collapsed_sections": [],
   "name": "cnn2.ipynb",
   "provenance": [],
   "version": "0.3.2"
  },
  "kernelspec": {
   "display_name": "Python 3",
   "language": "python",
   "name": "python3"
  },
  "language_info": {
   "codemirror_mode": {
    "name": "ipython",
    "version": 3
   },
   "file_extension": ".py",
   "mimetype": "text/x-python",
   "name": "python",
   "nbconvert_exporter": "python",
   "pygments_lexer": "ipython3",
   "version": "3.6.6"
  }
 },
 "nbformat": 4,
 "nbformat_minor": 1
}
