{
 "cells": [
  {
   "cell_type": "code",
   "execution_count": null,
   "metadata": {},
   "outputs": [],
   "source": [
    "from sklearn.model_selection import train_test_split as tts\n",
    "from keras.models import Sequential\n",
    "from keras.layers import Dense, Dropout, Conv2D, MaxPooling2D, Flatten\n",
    "from keras.utils import np_utils\n",
    "from random import randint\n",
    "import numpy as np\n",
    "import os\n",
    "from PIL import Image\n",
    "from matplotlib.pyplot import imshow"
   ]
  },
  {
   "cell_type": "code",
   "execution_count": null,
   "metadata": {},
   "outputs": [],
   "source": [
    "class DoodleCNN():\n",
    "    def __init__(self, data_dir, limit=None, split=0.05):\n",
    "        self.classes = {}\n",
    "        self.load(data_dir, split, limit)\n",
    "        self.buildModel()\n",
    "        \n",
    "    def load(self, data_dir, split=0.05, limit=None):\n",
    "        X = []\n",
    "        Y = []\n",
    "        label = -1\n",
    "        for file in os.listdir(data_dir):\n",
    "            if file.endswith(\".npy\"):\n",
    "                label += 1\n",
    "                contents = self.reshape(np.load(data_dir + file)[0:limit])\n",
    "                self.classes[label] = file[:-4]\n",
    "                X = X + contents\n",
    "                Y = Y + [label for _ in range(0, len(contents))]\n",
    "        X = self.normalize(X)\n",
    "        self.X_train, self.X_test, self.Y_train, self.Y_test = self.split(X, Y, split)\n",
    "        \n",
    "    def normalize(self, data):\n",
    "        return np.interp(data, [0, 255], [-1, 1])\n",
    "            \n",
    "    def split(self, X, Y, split=0.05):\n",
    "        X_train, X_test, Y_train, Y_test = tts(X, Y, test_size=split)\n",
    "        Y_train = np_utils.to_categorical(Y_train, len(self.classes))\n",
    "        Y_test = np_utils.to_categorical(Y_test, len(self.classes))\n",
    "        return X_train, X_test, Y_train, Y_test\n",
    "    \n",
    "    def buildModel(self):\n",
    "        self.model = Sequential()\n",
    "        self.model.add(Conv2D(32, kernel_size=(3, 3), activation='relu', input_shape=(28,28,1)))\n",
    "        self.model.add(Conv2D(64, (3, 3), activation='relu'))\n",
    "        self.model.add(MaxPooling2D(pool_size=(2, 2)))\n",
    "        self.model.add(Dropout(0.25))\n",
    "        self.model.add(Flatten())\n",
    "        self.model.add(Dense(128, activation='relu'))\n",
    "        self.model.add(Dropout(0.5))\n",
    "        self.model.add(Dense(len(self.classes), activation='softmax'))\n",
    "        \n",
    "    def train(self, epochs=10):\n",
    "        self.model.compile(loss='categorical_crossentropy',\n",
    "              optimizer='adam',\n",
    "              metrics=['accuracy'])\n",
    "        self.model.fit(np.array(self.X_train), np.array(self.Y_train), batch_size=32, epochs=epochs, shuffle=True)\n",
    "                \n",
    "    def reshape(self, contents):\n",
    "        reshaped = []\n",
    "        for i in range(len(contents)):\n",
    "            image = np.reshape(contents[i], (28, 28, 1))\n",
    "            reshaped.append(image)\n",
    "        return reshaped\n",
    "        "
   ]
  },
  {
   "cell_type": "code",
   "execution_count": null,
   "metadata": {},
   "outputs": [],
   "source": [
    "nn = DoodleCNN(\"data/\", 5000, 0.05)\n",
    "print(nn.classes)\n",
    "print(np.shape(nn.X_train), np.shape(nn.Y_train), np.shape(nn.X_test), np.shape(nn.Y_test))\n",
    "print(len(nn.classes))"
   ]
  },
  {
   "cell_type": "code",
   "execution_count": null,
   "metadata": {},
   "outputs": [],
   "source": [
    "nn.model.summary()"
   ]
  },
  {
   "cell_type": "code",
   "execution_count": null,
   "metadata": {},
   "outputs": [],
   "source": [
    "nn.train()"
   ]
  },
  {
   "cell_type": "code",
   "execution_count": null,
   "metadata": {},
   "outputs": [],
   "source": []
  }
 ],
 "metadata": {
  "kernelspec": {
   "display_name": "Python 3",
   "language": "python",
   "name": "python3"
  },
  "language_info": {
   "codemirror_mode": {
    "name": "ipython",
    "version": 3
   },
   "file_extension": ".py",
   "mimetype": "text/x-python",
   "name": "python",
   "nbconvert_exporter": "python",
   "pygments_lexer": "ipython3",
   "version": "3.6.6"
  }
 },
 "nbformat": 4,
 "nbformat_minor": 2
}
